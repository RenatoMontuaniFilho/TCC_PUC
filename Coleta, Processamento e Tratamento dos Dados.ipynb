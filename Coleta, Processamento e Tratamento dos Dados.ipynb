{
 "cells": [
  {
   "cell_type": "markdown",
   "id": "2f358915",
   "metadata": {},
   "source": [
    "PUC Minas - Pontifícia Universidade Católica de Minas Gerais\n",
    "\n",
    "Pós-Graduação em Ciência de Dados e Big Data\n",
    "\n",
    "TRABALHO DE CONCLUSÃO DE CURSO\n",
    "\n",
    "Tema:ANÁLISE DA RELAÇÃO DA IDADE DO PACIENTE E A PREVISÃO DE TEMPO DE PERMANÊNCIA DE INTERNAÇÃO DE PACIENTES DO SUS NO HOSPITAL EVANGÉLICO DE BELO HORIZONTE\n",
    "\n",
    "Aluno: Renato Montuani Filho\n",
    "\n",
    "Matrícula:1355660\n",
    "\n",
    "Notebook referente aos códigos elaborados em Python na elaboração do Trabalho de Conclusão de Curso de Pòs-Graduaçãpo em Ciência de Dados e Big Data da PUC-Minas.\n"
   ]
  },
  {
   "cell_type": "markdown",
   "id": "f1b94b42",
   "metadata": {},
   "source": [
    "# 1 - COLETA, TRATAMENTO E PROCESSAMENTO DOS DADOS"
   ]
  },
  {
   "cell_type": "code",
   "execution_count": 274,
   "id": "d1dd1055",
   "metadata": {},
   "outputs": [
    {
     "name": "stdout",
     "output_type": "stream",
     "text": [
      "Versão do Python\n",
      "3.11.5\n"
     ]
    }
   ],
   "source": [
    "# Versão do Python\n",
    "import platform\n",
    "print(\"Versão do Python\")\n",
    "print(platform.python_version())"
   ]
  },
  {
   "cell_type": "code",
   "execution_count": 275,
   "id": "01e15902",
   "metadata": {},
   "outputs": [],
   "source": [
    "# Importação de bibliotecas para manipulação, tratamento e visualização de dados.\n",
    "\n",
    "import pandas as pd\n",
    "import numpy as np\n",
    "\n",
    "import seaborn as sns\n",
    "import matplotlib.pyplot as plt"
   ]
  },
  {
   "cell_type": "code",
   "execution_count": 276,
   "id": "b44cd8ce",
   "metadata": {},
   "outputs": [],
   "source": [
    "# Leitura do dataset \"drg_internacao\"\n",
    "\n",
    "df_internacao = pd.read_csv(\"drg_internacao.csv\")   "
   ]
  },
  {
   "cell_type": "code",
   "execution_count": 277,
   "id": "3aceeafe",
   "metadata": {},
   "outputs": [
    {
     "name": "stdout",
     "output_type": "stream",
     "text": [
      "<class 'pandas.core.frame.DataFrame'>\n",
      "RangeIndex: 7252 entries, 0 to 7251\n",
      "Data columns (total 43 columns):\n",
      " #   Column                           Non-Null Count  Dtype  \n",
      "---  ------                           --------------  -----  \n",
      " 0   id                               7252 non-null   int64  \n",
      " 1   id_drg                           7252 non-null   int64  \n",
      " 2   situacao                         7252 non-null   int64  \n",
      " 3   carater_internacao               7252 non-null   int64  \n",
      " 4   numero_operadora                 7252 non-null   object \n",
      " 5   numero_registro                  7250 non-null   float64\n",
      " 6   numero_atendimento               7247 non-null   object \n",
      " 7   numero_autorizacao               1908 non-null   object \n",
      " 8   data_internacao                  7252 non-null   object \n",
      " 9   data_alta                        7252 non-null   object \n",
      " 10  condicao_alta                    7252 non-null   object \n",
      " 11  data_autorizacao                 6059 non-null   object \n",
      " 12  internado_outras_vezes           7252 non-null   object \n",
      " 13  hospital_internacao_anterior     2318 non-null   object \n",
      " 14  reinternacao                     7252 non-null   object \n",
      " 15  recaida                          7252 non-null   object \n",
      " 16  origem_readmissao                7252 non-null   object \n",
      " 17  origem_recaida                   7252 non-null   object \n",
      " 18  id_internacao_recaida            7252 non-null   int64  \n",
      " 19  data_prevista_alta               7252 non-null   object \n",
      " 20  permanencia_prevista_internacao  7252 non-null   float64\n",
      " 21  permanencia_prevista_alta        7252 non-null   float64\n",
      " 22  permanencia_real                 7252 non-null   float64\n",
      " 23  percentil                        7252 non-null   object \n",
      " 24  procedencia                      7252 non-null   object \n",
      " 25  ventilacao_mecanica              7252 non-null   object \n",
      " 26  total_horas_ventilacao_mecanica  313 non-null    object \n",
      " 27  modalidade_internacao            7252 non-null   object \n",
      " 28  data_cadastro                    7252 non-null   object \n",
      " 29  usuario_cadastro                 7252 non-null   object \n",
      " 30  data_cadastro_alta               7252 non-null   object \n",
      " 31  usuario_cadastro_alta            7252 non-null   object \n",
      " 32  data_ultima_alteracao            7252 non-null   object \n",
      " 33  usuario_ultima_alteracao         7252 non-null   object \n",
      " 34  correcao_registro                7252 non-null   object \n",
      " 35  usuario_correcao                 37 non-null     object \n",
      " 36  data_ultimo_recalculo            37 non-null     object \n",
      " 37  leito                            7190 non-null   object \n",
      " 38  condicao_adquirida_grave         1739 non-null   object \n",
      " 39  registro_paciente_mae            7252 non-null   int64  \n",
      " 40  mae_nao_identificada             7252 non-null   object \n",
      " 41  estado                           7252 non-null   object \n",
      " 42  cidade                           0 non-null      float64\n",
      "dtypes: float64(5), int64(6), object(32)\n",
      "memory usage: 2.4+ MB\n"
     ]
    }
   ],
   "source": [
    "# Informações do dataframe\n",
    "\n",
    "df_internacao.info()"
   ]
  },
  {
   "cell_type": "code",
   "execution_count": 278,
   "id": "2e20d534",
   "metadata": {
    "scrolled": false
   },
   "outputs": [
    {
     "data": {
      "text/html": [
       "<div>\n",
       "<style scoped>\n",
       "    .dataframe tbody tr th:only-of-type {\n",
       "        vertical-align: middle;\n",
       "    }\n",
       "\n",
       "    .dataframe tbody tr th {\n",
       "        vertical-align: top;\n",
       "    }\n",
       "\n",
       "    .dataframe thead th {\n",
       "        text-align: right;\n",
       "    }\n",
       "</style>\n",
       "<table border=\"1\" class=\"dataframe\">\n",
       "  <thead>\n",
       "    <tr style=\"text-align: right;\">\n",
       "      <th></th>\n",
       "      <th>id</th>\n",
       "      <th>id_drg</th>\n",
       "      <th>situacao</th>\n",
       "      <th>carater_internacao</th>\n",
       "      <th>numero_operadora</th>\n",
       "      <th>numero_registro</th>\n",
       "      <th>numero_atendimento</th>\n",
       "      <th>numero_autorizacao</th>\n",
       "      <th>data_internacao</th>\n",
       "      <th>data_alta</th>\n",
       "      <th>...</th>\n",
       "      <th>usuario_ultima_alteracao</th>\n",
       "      <th>correcao_registro</th>\n",
       "      <th>usuario_correcao</th>\n",
       "      <th>data_ultimo_recalculo</th>\n",
       "      <th>leito</th>\n",
       "      <th>condicao_adquirida_grave</th>\n",
       "      <th>registro_paciente_mae</th>\n",
       "      <th>mae_nao_identificada</th>\n",
       "      <th>estado</th>\n",
       "      <th>cidade</th>\n",
       "    </tr>\n",
       "  </thead>\n",
       "  <tbody>\n",
       "    <tr>\n",
       "      <th>0</th>\n",
       "      <td>4</td>\n",
       "      <td>10407649</td>\n",
       "      <td>3</td>\n",
       "      <td>1</td>\n",
       "      <td>3945-SISTEMA ÚNICO DE SAÚDE</td>\n",
       "      <td>76189.0</td>\n",
       "      <td>419039</td>\n",
       "      <td>20231069424</td>\n",
       "      <td>2023-10-31 08:30:00-03</td>\n",
       "      <td>2023-11-01 10:07:00-03</td>\n",
       "      <td>...</td>\n",
       "      <td>Priscila.Marinho</td>\n",
       "      <td></td>\n",
       "      <td>NaN</td>\n",
       "      <td>NaN</td>\n",
       "      <td>2 POSTO ENF  2105 ENF</td>\n",
       "      <td>NaN</td>\n",
       "      <td>0</td>\n",
       "      <td></td>\n",
       "      <td></td>\n",
       "      <td>NaN</td>\n",
       "    </tr>\n",
       "    <tr>\n",
       "      <th>1</th>\n",
       "      <td>5</td>\n",
       "      <td>10407547</td>\n",
       "      <td>3</td>\n",
       "      <td>1</td>\n",
       "      <td>3945-SISTEMA ÚNICO DE SAÚDE</td>\n",
       "      <td>75818.0</td>\n",
       "      <td>420489</td>\n",
       "      <td>20231069595</td>\n",
       "      <td>2023-10-31 13:23:00-03</td>\n",
       "      <td>2023-11-01 09:12:00-03</td>\n",
       "      <td>...</td>\n",
       "      <td>Priscila.Marinho</td>\n",
       "      <td></td>\n",
       "      <td>NaN</td>\n",
       "      <td>NaN</td>\n",
       "      <td>1 POSTO ENF  1012 ENF</td>\n",
       "      <td>NaN</td>\n",
       "      <td>0</td>\n",
       "      <td></td>\n",
       "      <td></td>\n",
       "      <td>NaN</td>\n",
       "    </tr>\n",
       "    <tr>\n",
       "      <th>2</th>\n",
       "      <td>6</td>\n",
       "      <td>10407420</td>\n",
       "      <td>3</td>\n",
       "      <td>1</td>\n",
       "      <td>3945-SISTEMA ÚNICO DE SAÚDE</td>\n",
       "      <td>76171.0</td>\n",
       "      <td>418958</td>\n",
       "      <td>20231065413</td>\n",
       "      <td>2023-10-31 08:21:00-03</td>\n",
       "      <td>2023-11-01 09:18:00-03</td>\n",
       "      <td>...</td>\n",
       "      <td>Priscila.Marinho</td>\n",
       "      <td></td>\n",
       "      <td>NaN</td>\n",
       "      <td>NaN</td>\n",
       "      <td>1 POSTO ENF  1013 ENF</td>\n",
       "      <td>NaN</td>\n",
       "      <td>0</td>\n",
       "      <td></td>\n",
       "      <td></td>\n",
       "      <td>NaN</td>\n",
       "    </tr>\n",
       "    <tr>\n",
       "      <th>3</th>\n",
       "      <td>7</td>\n",
       "      <td>10407057</td>\n",
       "      <td>3</td>\n",
       "      <td>1</td>\n",
       "      <td>3945-SISTEMA ÚNICO DE SAÚDE</td>\n",
       "      <td>41590.0</td>\n",
       "      <td>425845</td>\n",
       "      <td>20231052109</td>\n",
       "      <td>2023-11-01 09:22:00-03</td>\n",
       "      <td>2023-11-01 16:25:00-03</td>\n",
       "      <td>...</td>\n",
       "      <td>Priscila.Marinho</td>\n",
       "      <td></td>\n",
       "      <td>NaN</td>\n",
       "      <td>NaN</td>\n",
       "      <td>4 POSTO ENF  4071 ENF</td>\n",
       "      <td>NaN</td>\n",
       "      <td>0</td>\n",
       "      <td></td>\n",
       "      <td></td>\n",
       "      <td>NaN</td>\n",
       "    </tr>\n",
       "    <tr>\n",
       "      <th>4</th>\n",
       "      <td>8</td>\n",
       "      <td>10406786</td>\n",
       "      <td>3</td>\n",
       "      <td>1</td>\n",
       "      <td>3945-SISTEMA ÚNICO DE SAÚDE</td>\n",
       "      <td>50154.0</td>\n",
       "      <td>424849</td>\n",
       "      <td>20231150295</td>\n",
       "      <td>2023-11-01 07:19:00-03</td>\n",
       "      <td>2023-11-01 16:00:00-03</td>\n",
       "      <td>...</td>\n",
       "      <td>Priscila.Marinho</td>\n",
       "      <td></td>\n",
       "      <td>NaN</td>\n",
       "      <td>NaN</td>\n",
       "      <td>1 POSTO ENF  1014 ENF</td>\n",
       "      <td>NaN</td>\n",
       "      <td>0</td>\n",
       "      <td></td>\n",
       "      <td></td>\n",
       "      <td>NaN</td>\n",
       "    </tr>\n",
       "  </tbody>\n",
       "</table>\n",
       "<p>5 rows × 43 columns</p>\n",
       "</div>"
      ],
      "text/plain": [
       "   id    id_drg  situacao  carater_internacao             numero_operadora  \\\n",
       "0   4  10407649         3                   1  3945-SISTEMA ÚNICO DE SAÚDE   \n",
       "1   5  10407547         3                   1  3945-SISTEMA ÚNICO DE SAÚDE   \n",
       "2   6  10407420         3                   1  3945-SISTEMA ÚNICO DE SAÚDE   \n",
       "3   7  10407057         3                   1  3945-SISTEMA ÚNICO DE SAÚDE   \n",
       "4   8  10406786         3                   1  3945-SISTEMA ÚNICO DE SAÚDE   \n",
       "\n",
       "   numero_registro numero_atendimento numero_autorizacao  \\\n",
       "0          76189.0             419039        20231069424   \n",
       "1          75818.0             420489        20231069595   \n",
       "2          76171.0             418958        20231065413   \n",
       "3          41590.0             425845        20231052109   \n",
       "4          50154.0             424849        20231150295   \n",
       "\n",
       "          data_internacao               data_alta  ...  \\\n",
       "0  2023-10-31 08:30:00-03  2023-11-01 10:07:00-03  ...   \n",
       "1  2023-10-31 13:23:00-03  2023-11-01 09:12:00-03  ...   \n",
       "2  2023-10-31 08:21:00-03  2023-11-01 09:18:00-03  ...   \n",
       "3  2023-11-01 09:22:00-03  2023-11-01 16:25:00-03  ...   \n",
       "4  2023-11-01 07:19:00-03  2023-11-01 16:00:00-03  ...   \n",
       "\n",
       "  usuario_ultima_alteracao correcao_registro usuario_correcao  \\\n",
       "0         Priscila.Marinho                                NaN   \n",
       "1         Priscila.Marinho                                NaN   \n",
       "2         Priscila.Marinho                                NaN   \n",
       "3         Priscila.Marinho                                NaN   \n",
       "4         Priscila.Marinho                                NaN   \n",
       "\n",
       "  data_ultimo_recalculo                  leito condicao_adquirida_grave  \\\n",
       "0                   NaN  2 POSTO ENF  2105 ENF                      NaN   \n",
       "1                   NaN  1 POSTO ENF  1012 ENF                      NaN   \n",
       "2                   NaN  1 POSTO ENF  1013 ENF                      NaN   \n",
       "3                   NaN  4 POSTO ENF  4071 ENF                      NaN   \n",
       "4                   NaN  1 POSTO ENF  1014 ENF                      NaN   \n",
       "\n",
       "  registro_paciente_mae mae_nao_identificada  estado cidade  \n",
       "0                     0                                 NaN  \n",
       "1                     0                                 NaN  \n",
       "2                     0                                 NaN  \n",
       "3                     0                                 NaN  \n",
       "4                     0                                 NaN  \n",
       "\n",
       "[5 rows x 43 columns]"
      ]
     },
     "execution_count": 278,
     "metadata": {},
     "output_type": "execute_result"
    }
   ],
   "source": [
    "df_internacao.head()"
   ]
  },
  {
   "cell_type": "code",
   "execution_count": 279,
   "id": "5baf1dac",
   "metadata": {},
   "outputs": [],
   "source": [
    "# Selecionando as colunas desejadas\n",
    "\n",
    "df_internacao = df_internacao [['id', 'id_drg', 'carater_internacao', 'data_internacao', 'data_alta', 'condicao_alta',\n",
    "                               'permanencia_real', 'modalidade_internacao', 'permanencia_prevista_internacao']]"
   ]
  },
  {
   "cell_type": "code",
   "execution_count": 280,
   "id": "b89620a4",
   "metadata": {},
   "outputs": [
    {
     "name": "stdout",
     "output_type": "stream",
     "text": [
      "<class 'pandas.core.frame.DataFrame'>\n",
      "RangeIndex: 7252 entries, 0 to 7251\n",
      "Data columns (total 9 columns):\n",
      " #   Column                           Non-Null Count  Dtype  \n",
      "---  ------                           --------------  -----  \n",
      " 0   id                               7252 non-null   int64  \n",
      " 1   id_drg                           7252 non-null   int64  \n",
      " 2   carater_internacao               7252 non-null   int64  \n",
      " 3   data_internacao                  7252 non-null   object \n",
      " 4   data_alta                        7252 non-null   object \n",
      " 5   condicao_alta                    7252 non-null   object \n",
      " 6   permanencia_real                 7252 non-null   float64\n",
      " 7   modalidade_internacao            7252 non-null   object \n",
      " 8   permanencia_prevista_internacao  7252 non-null   float64\n",
      "dtypes: float64(2), int64(3), object(4)\n",
      "memory usage: 510.0+ KB\n"
     ]
    }
   ],
   "source": [
    "df_internacao.info()"
   ]
  },
  {
   "cell_type": "code",
   "execution_count": 281,
   "id": "9772f9f1",
   "metadata": {},
   "outputs": [
    {
     "data": {
      "text/plain": [
       "id                                 0\n",
       "id_drg                             0\n",
       "carater_internacao                 0\n",
       "data_internacao                    0\n",
       "data_alta                          0\n",
       "condicao_alta                      0\n",
       "permanencia_real                   0\n",
       "modalidade_internacao              0\n",
       "permanencia_prevista_internacao    0\n",
       "dtype: int64"
      ]
     },
     "execution_count": 281,
     "metadata": {},
     "output_type": "execute_result"
    }
   ],
   "source": [
    "# Verificando se há dados nulos\n",
    "\n",
    "df_internacao.isnull().sum()"
   ]
  },
  {
   "cell_type": "code",
   "execution_count": 282,
   "id": "e4bbe431",
   "metadata": {},
   "outputs": [],
   "source": [
    "# Leitura do dataset \"drg_beneficiario\"\n",
    "\n",
    "df_beneficiario = pd.read_csv(\"drg_beneficiario.csv\") "
   ]
  },
  {
   "cell_type": "code",
   "execution_count": 283,
   "id": "9f168a50",
   "metadata": {
    "scrolled": true
   },
   "outputs": [
    {
     "name": "stdout",
     "output_type": "stream",
     "text": [
      "<class 'pandas.core.frame.DataFrame'>\n",
      "RangeIndex: 7252 entries, 0 to 7251\n",
      "Data columns (total 11 columns):\n",
      " #   Column           Non-Null Count  Dtype \n",
      "---  ------           --------------  ----- \n",
      " 0   id               7252 non-null   int64 \n",
      " 1   id_drg           7252 non-null   int64 \n",
      " 2   codigo_paciente  7252 non-null   object\n",
      " 3   plano            3603 non-null   object\n",
      " 4   data_nascimento  7252 non-null   object\n",
      " 5   sexo             7252 non-null   object\n",
      " 6   recem_nascido    7252 non-null   object\n",
      " 7   particular       7252 non-null   object\n",
      " 8   idade_em_anos    7252 non-null   int64 \n",
      " 9   idade_em_meses   7252 non-null   int64 \n",
      " 10  idade_em_dias    7252 non-null   int64 \n",
      "dtypes: int64(5), object(6)\n",
      "memory usage: 623.3+ KB\n"
     ]
    }
   ],
   "source": [
    "# Informações do dataframe\n",
    "\n",
    "df_beneficiario.info()"
   ]
  },
  {
   "cell_type": "code",
   "execution_count": 284,
   "id": "e36d2f06",
   "metadata": {},
   "outputs": [],
   "source": [
    "# Selecionando as colunas desejadas\n",
    "\n",
    "df_beneficiario = df_beneficiario [['id', 'id_drg', 'data_nascimento', 'sexo', 'idade_em_anos']]"
   ]
  },
  {
   "cell_type": "code",
   "execution_count": 285,
   "id": "c3b8066d",
   "metadata": {},
   "outputs": [
    {
     "name": "stdout",
     "output_type": "stream",
     "text": [
      "<class 'pandas.core.frame.DataFrame'>\n",
      "RangeIndex: 7252 entries, 0 to 7251\n",
      "Data columns (total 5 columns):\n",
      " #   Column           Non-Null Count  Dtype \n",
      "---  ------           --------------  ----- \n",
      " 0   id               7252 non-null   int64 \n",
      " 1   id_drg           7252 non-null   int64 \n",
      " 2   data_nascimento  7252 non-null   object\n",
      " 3   sexo             7252 non-null   object\n",
      " 4   idade_em_anos    7252 non-null   int64 \n",
      "dtypes: int64(3), object(2)\n",
      "memory usage: 283.4+ KB\n"
     ]
    }
   ],
   "source": [
    "df_beneficiario.info()"
   ]
  },
  {
   "cell_type": "code",
   "execution_count": 286,
   "id": "d466cd6e",
   "metadata": {},
   "outputs": [
    {
     "data": {
      "text/plain": [
       "id                 0\n",
       "id_drg             0\n",
       "data_nascimento    0\n",
       "sexo               0\n",
       "idade_em_anos      0\n",
       "dtype: int64"
      ]
     },
     "execution_count": 286,
     "metadata": {},
     "output_type": "execute_result"
    }
   ],
   "source": [
    "# Verificando se há dados nulos\n",
    "\n",
    "df_beneficiario.isnull().sum()"
   ]
  },
  {
   "cell_type": "markdown",
   "id": "c6517809",
   "metadata": {},
   "source": [
    "# 2 - ANÁLISE E EXPLORAÇÃO DOS DADOS"
   ]
  },
  {
   "cell_type": "code",
   "execution_count": 287,
   "id": "bd500911",
   "metadata": {},
   "outputs": [
    {
     "data": {
      "text/html": [
       "<div>\n",
       "<style scoped>\n",
       "    .dataframe tbody tr th:only-of-type {\n",
       "        vertical-align: middle;\n",
       "    }\n",
       "\n",
       "    .dataframe tbody tr th {\n",
       "        vertical-align: top;\n",
       "    }\n",
       "\n",
       "    .dataframe thead th {\n",
       "        text-align: right;\n",
       "    }\n",
       "</style>\n",
       "<table border=\"1\" class=\"dataframe\">\n",
       "  <thead>\n",
       "    <tr style=\"text-align: right;\">\n",
       "      <th></th>\n",
       "      <th>id</th>\n",
       "      <th>id_drg</th>\n",
       "      <th>carater_internacao</th>\n",
       "      <th>permanencia_real</th>\n",
       "      <th>permanencia_prevista_internacao</th>\n",
       "    </tr>\n",
       "  </thead>\n",
       "  <tbody>\n",
       "    <tr>\n",
       "      <th>count</th>\n",
       "      <td>7252.000000</td>\n",
       "      <td>7.252000e+03</td>\n",
       "      <td>7252.000000</td>\n",
       "      <td>7252.000000</td>\n",
       "      <td>7252.000000</td>\n",
       "    </tr>\n",
       "    <tr>\n",
       "      <th>mean</th>\n",
       "      <td>4985.800745</td>\n",
       "      <td>9.318643e+06</td>\n",
       "      <td>1.408715</td>\n",
       "      <td>4.372035</td>\n",
       "      <td>3.224766</td>\n",
       "    </tr>\n",
       "    <tr>\n",
       "      <th>std</th>\n",
       "      <td>3193.068030</td>\n",
       "      <td>8.459462e+05</td>\n",
       "      <td>0.491911</td>\n",
       "      <td>7.812617</td>\n",
       "      <td>4.184213</td>\n",
       "    </tr>\n",
       "    <tr>\n",
       "      <th>min</th>\n",
       "      <td>1.000000</td>\n",
       "      <td>7.862684e+06</td>\n",
       "      <td>1.000000</td>\n",
       "      <td>0.000000</td>\n",
       "      <td>0.300000</td>\n",
       "    </tr>\n",
       "    <tr>\n",
       "      <th>25%</th>\n",
       "      <td>2680.750000</td>\n",
       "      <td>8.651516e+06</td>\n",
       "      <td>1.000000</td>\n",
       "      <td>1.100000</td>\n",
       "      <td>1.000000</td>\n",
       "    </tr>\n",
       "    <tr>\n",
       "      <th>50%</th>\n",
       "      <td>4512.500000</td>\n",
       "      <td>9.177840e+06</td>\n",
       "      <td>1.000000</td>\n",
       "      <td>2.000000</td>\n",
       "      <td>1.900000</td>\n",
       "    </tr>\n",
       "    <tr>\n",
       "      <th>75%</th>\n",
       "      <td>6625.250000</td>\n",
       "      <td>1.011549e+07</td>\n",
       "      <td>2.000000</td>\n",
       "      <td>4.300000</td>\n",
       "      <td>3.700000</td>\n",
       "    </tr>\n",
       "    <tr>\n",
       "      <th>max</th>\n",
       "      <td>14803.000000</td>\n",
       "      <td>1.072855e+07</td>\n",
       "      <td>3.000000</td>\n",
       "      <td>184.500000</td>\n",
       "      <td>78.800000</td>\n",
       "    </tr>\n",
       "  </tbody>\n",
       "</table>\n",
       "</div>"
      ],
      "text/plain": [
       "                 id        id_drg  carater_internacao  permanencia_real  \\\n",
       "count   7252.000000  7.252000e+03         7252.000000       7252.000000   \n",
       "mean    4985.800745  9.318643e+06            1.408715          4.372035   \n",
       "std     3193.068030  8.459462e+05            0.491911          7.812617   \n",
       "min        1.000000  7.862684e+06            1.000000          0.000000   \n",
       "25%     2680.750000  8.651516e+06            1.000000          1.100000   \n",
       "50%     4512.500000  9.177840e+06            1.000000          2.000000   \n",
       "75%     6625.250000  1.011549e+07            2.000000          4.300000   \n",
       "max    14803.000000  1.072855e+07            3.000000        184.500000   \n",
       "\n",
       "       permanencia_prevista_internacao  \n",
       "count                      7252.000000  \n",
       "mean                          3.224766  \n",
       "std                           4.184213  \n",
       "min                           0.300000  \n",
       "25%                           1.000000  \n",
       "50%                           1.900000  \n",
       "75%                           3.700000  \n",
       "max                          78.800000  "
      ]
     },
     "execution_count": 287,
     "metadata": {},
     "output_type": "execute_result"
    }
   ],
   "source": [
    "#Resumo estatístico do dataset df_internacao\n",
    "df_internacao.describe()"
   ]
  },
  {
   "cell_type": "code",
   "execution_count": 288,
   "id": "5bf59c43",
   "metadata": {},
   "outputs": [
    {
     "data": {
      "text/html": [
       "<div>\n",
       "<style scoped>\n",
       "    .dataframe tbody tr th:only-of-type {\n",
       "        vertical-align: middle;\n",
       "    }\n",
       "\n",
       "    .dataframe tbody tr th {\n",
       "        vertical-align: top;\n",
       "    }\n",
       "\n",
       "    .dataframe thead th {\n",
       "        text-align: right;\n",
       "    }\n",
       "</style>\n",
       "<table border=\"1\" class=\"dataframe\">\n",
       "  <thead>\n",
       "    <tr style=\"text-align: right;\">\n",
       "      <th></th>\n",
       "      <th>id</th>\n",
       "      <th>id_drg</th>\n",
       "      <th>idade_em_anos</th>\n",
       "    </tr>\n",
       "  </thead>\n",
       "  <tbody>\n",
       "    <tr>\n",
       "      <th>count</th>\n",
       "      <td>7252.000000</td>\n",
       "      <td>7.252000e+03</td>\n",
       "      <td>7252.000000</td>\n",
       "    </tr>\n",
       "    <tr>\n",
       "      <th>mean</th>\n",
       "      <td>5913.785025</td>\n",
       "      <td>9.318643e+06</td>\n",
       "      <td>55.608522</td>\n",
       "    </tr>\n",
       "    <tr>\n",
       "      <th>std</th>\n",
       "      <td>3482.394685</td>\n",
       "      <td>8.459462e+05</td>\n",
       "      <td>17.453674</td>\n",
       "    </tr>\n",
       "    <tr>\n",
       "      <th>min</th>\n",
       "      <td>1373.000000</td>\n",
       "      <td>7.862684e+06</td>\n",
       "      <td>14.000000</td>\n",
       "    </tr>\n",
       "    <tr>\n",
       "      <th>25%</th>\n",
       "      <td>3231.750000</td>\n",
       "      <td>8.651516e+06</td>\n",
       "      <td>43.000000</td>\n",
       "    </tr>\n",
       "    <tr>\n",
       "      <th>50%</th>\n",
       "      <td>5059.500000</td>\n",
       "      <td>9.177840e+06</td>\n",
       "      <td>57.000000</td>\n",
       "    </tr>\n",
       "    <tr>\n",
       "      <th>75%</th>\n",
       "      <td>7849.250000</td>\n",
       "      <td>1.011549e+07</td>\n",
       "      <td>68.000000</td>\n",
       "    </tr>\n",
       "    <tr>\n",
       "      <th>max</th>\n",
       "      <td>15135.000000</td>\n",
       "      <td>1.072855e+07</td>\n",
       "      <td>105.000000</td>\n",
       "    </tr>\n",
       "  </tbody>\n",
       "</table>\n",
       "</div>"
      ],
      "text/plain": [
       "                 id        id_drg  idade_em_anos\n",
       "count   7252.000000  7.252000e+03    7252.000000\n",
       "mean    5913.785025  9.318643e+06      55.608522\n",
       "std     3482.394685  8.459462e+05      17.453674\n",
       "min     1373.000000  7.862684e+06      14.000000\n",
       "25%     3231.750000  8.651516e+06      43.000000\n",
       "50%     5059.500000  9.177840e+06      57.000000\n",
       "75%     7849.250000  1.011549e+07      68.000000\n",
       "max    15135.000000  1.072855e+07     105.000000"
      ]
     },
     "execution_count": 288,
     "metadata": {},
     "output_type": "execute_result"
    }
   ],
   "source": [
    "#Resumo estatístico do dataset df_beneficiario\n",
    "df_beneficiario.describe()"
   ]
  },
  {
   "cell_type": "code",
   "execution_count": 289,
   "id": "83d51836",
   "metadata": {},
   "outputs": [
    {
     "data": {
      "text/plain": [
       "count    7252.000000\n",
       "mean       55.608522\n",
       "std        17.453674\n",
       "min        14.000000\n",
       "25%        43.000000\n",
       "50%        57.000000\n",
       "75%        68.000000\n",
       "max       105.000000\n",
       "Name: idade_em_anos, dtype: float64"
      ]
     },
     "execution_count": 289,
     "metadata": {},
     "output_type": "execute_result"
    }
   ],
   "source": [
    "#Resumo estatístico da variavel preditora (idade_em_anos)\n",
    "df_beneficiario[\"idade_em_anos\"].describe()"
   ]
  },
  {
   "cell_type": "code",
   "execution_count": 290,
   "id": "2a5ce507",
   "metadata": {},
   "outputs": [
    {
     "data": {
      "text/plain": [
       "<Axes: xlabel='idade_em_anos', ylabel='Count'>"
      ]
     },
     "execution_count": 290,
     "metadata": {},
     "output_type": "execute_result"
    },
    {
     "data": {
      "image/png": "[encoded data removed]",
      "text/plain": [
       "<Figure size 640x480 with 1 Axes>"
      ]
     },
     "metadata": {},
     "output_type": "display_data"
    }
   ],
   "source": [
    "#Histograma da variavel preditora (idade_em_anos)\n",
    "sns.histplot(data = df_beneficiario, x = \"idade_em_anos\", kde = True )"
   ]
  },
  {
   "cell_type": "code",
   "execution_count": 291,
   "id": "7e9ca543",
   "metadata": {},
   "outputs": [
    {
     "data": {
      "text/plain": [
       "count    7252.000000\n",
       "mean        4.372035\n",
       "std         7.812617\n",
       "min         0.000000\n",
       "25%         1.100000\n",
       "50%         2.000000\n",
       "75%         4.300000\n",
       "max       184.500000\n",
       "Name: permanencia_real, dtype: float64"
      ]
     },
     "execution_count": 291,
     "metadata": {},
     "output_type": "execute_result"
    }
   ],
   "source": [
    "#Resumo estatístico da variavel alvo (permanencia_real)\n",
    "df_internacao[\"permanencia_real\"].describe()"
   ]
  },
  {
   "cell_type": "code",
   "execution_count": 292,
   "id": "4c874e2f",
   "metadata": {},
   "outputs": [],
   "source": [
    "#Preparando da variavel de alvo Y\n",
    "y = df_internacao[\"permanencia_real\"]"
   ]
  },
  {
   "cell_type": "code",
   "execution_count": 299,
   "id": "e0b5c6c8",
   "metadata": {},
   "outputs": [],
   "source": [
    "#Preparando da variavel preditora x\n",
    "x = df_beneficiario[\"idade_em_anos\"]"
   ]
  },
  {
   "cell_type": "code",
   "execution_count": 294,
   "id": "3f29bafa",
   "metadata": {},
   "outputs": [],
   "source": [
    "# import statsmodels.api as sm"
   ]
  },
  {
   "cell_type": "code",
   "execution_count": 295,
   "id": "2e4ec9ad",
   "metadata": {},
   "outputs": [],
   "source": [
    "#X = sm.add_constant(x)"
   ]
  },
  {
   "cell_type": "code",
   "execution_count": 296,
   "id": "e0ef4fa4",
   "metadata": {},
   "outputs": [],
   "source": [
    "# modelo = sm.OLS(y, x).fit()"
   ]
  },
  {
   "cell_type": "code",
   "execution_count": 297,
   "id": "9441e2d8",
   "metadata": {},
   "outputs": [
    {
     "name": "stdout",
     "output_type": "stream",
     "text": [
      "                                 OLS Regression Results                                \n",
      "=======================================================================================\n",
      "Dep. Variable:       permanencia_real   R-squared (uncentered):                   0.212\n",
      "Model:                            OLS   Adj. R-squared (uncentered):              0.212\n",
      "Method:                 Least Squares   F-statistic:                              1956.\n",
      "Date:                Sat, 27 Jan 2024   Prob (F-statistic):                        0.00\n",
      "Time:                        10:22:29   Log-Likelihood:                         -25320.\n",
      "No. Observations:                7252   AIC:                                  5.064e+04\n",
      "Df Residuals:                    7251   BIC:                                  5.065e+04\n",
      "Df Model:                           1                                                  \n",
      "Covariance Type:            nonrobust                                                  \n",
      "=================================================================================\n",
      "                    coef    std err          t      P>|t|      [0.025      0.975]\n",
      "---------------------------------------------------------------------------------\n",
      "idade_em_anos     0.0708      0.002     44.224      0.000       0.068       0.074\n",
      "==============================================================================\n",
      "Omnibus:                     9243.604   Durbin-Watson:                   1.502\n",
      "Prob(Omnibus):                  0.000   Jarque-Bera (JB):          2356867.538\n",
      "Skew:                           6.883   Prob(JB):                         0.00\n",
      "Kurtosis:                      90.238   Cond. No.                         1.00\n",
      "==============================================================================\n",
      "\n",
      "Notes:\n",
      "[1] R² is computed without centering (uncentered) since the model does not contain a constant.\n",
      "[2] Standard Errors assume that the covariance matrix of the errors is correctly specified.\n"
     ]
    }
   ],
   "source": [
    "# print(modelo.summary())"
   ]
  },
  {
   "cell_type": "code",
   "execution_count": 300,
   "id": "7b61457b",
   "metadata": {},
   "outputs": [
    {
     "name": "stdout",
     "output_type": "stream",
     "text": [
      "-0.019383889015926917\n"
     ]
    }
   ],
   "source": [
    "#Verificando a correlação entre as variáveis\n",
    "\n",
    "internacao = np.corrcoef(x,y)[0,1]\n",
    "print(internacao)"
   ]
  },
  {
   "cell_type": "code",
   "execution_count": 301,
   "id": "284598a6",
   "metadata": {},
   "outputs": [
    {
     "data": {
      "image/png": "[encoded data removed]",
      "text/plain": [
       "<Figure size 640x480 with 1 Axes>"
      ]
     },
     "metadata": {},
     "output_type": "display_data"
    }
   ],
   "source": [
    "# Gráfico de dispersão entre x e y\n",
    "plt.scatter(x, y, color = \"blue\", label = \"internacao\")\n",
    "plt.xlabel(\"idade_em_anos\")\n",
    "plt.ylabel(\"permanencia_real\")\n",
    "plt.legend()\n",
    "plt.show()"
   ]
  },
  {
   "cell_type": "markdown",
   "id": "768d1dfe",
   "metadata": {},
   "source": [
    "# 3 - CRIAÇÃO DO MODELO DE MACHINE LEARNING"
   ]
  },
  {
   "cell_type": "code",
   "execution_count": 302,
   "id": "70bea557",
   "metadata": {},
   "outputs": [],
   "source": [
    "# Importação de bibliotecas para análise de dados e crianção do modelo preditivo.\n",
    "from sklearn.linear_model import LinearRegression\n",
    "from sklearn.model_selection import train_test_split"
   ]
  },
  {
   "cell_type": "code",
   "execution_count": 303,
   "id": "8ecaebd0",
   "metadata": {},
   "outputs": [],
   "source": [
    "# Preparando a variável de entrada X\n",
    "X = np.array(df_beneficiario[\"idade_em_anos\"])"
   ]
  },
  {
   "cell_type": "code",
   "execution_count": 304,
   "id": "ed9896fb",
   "metadata": {},
   "outputs": [],
   "source": [
    "# Ajustando o shape de X\n",
    "X = X.reshape(-1, 1)"
   ]
  },
  {
   "cell_type": "code",
   "execution_count": 319,
   "id": "88d87fce",
   "metadata": {},
   "outputs": [],
   "source": [
    "# Dividindo dados em treinamento e teste\n",
    "X_treino, X_teste, y_treino, y_teste = train_test_split(X, y, test_size = 0.2, random_state = 42)"
   ]
  },
  {
   "cell_type": "code",
   "execution_count": 320,
   "id": "37ee4abd",
   "metadata": {},
   "outputs": [
    {
     "data": {
      "text/plain": [
       "(5801, 1)"
      ]
     },
     "execution_count": 320,
     "metadata": {},
     "output_type": "execute_result"
    }
   ],
   "source": [
    "X_treino.shape"
   ]
  },
  {
   "cell_type": "code",
   "execution_count": 321,
   "id": "97f911ac",
   "metadata": {},
   "outputs": [
    {
     "data": {
      "text/plain": [
       "(1451, 1)"
      ]
     },
     "execution_count": 321,
     "metadata": {},
     "output_type": "execute_result"
    }
   ],
   "source": [
    "X_teste.shape"
   ]
  },
  {
   "cell_type": "code",
   "execution_count": 322,
   "id": "05615a6d",
   "metadata": {},
   "outputs": [
    {
     "data": {
      "text/plain": [
       "(5801,)"
      ]
     },
     "execution_count": 322,
     "metadata": {},
     "output_type": "execute_result"
    }
   ],
   "source": [
    "y_treino.shape"
   ]
  },
  {
   "cell_type": "code",
   "execution_count": 323,
   "id": "53841778",
   "metadata": {},
   "outputs": [
    {
     "data": {
      "text/plain": [
       "(1451,)"
      ]
     },
     "execution_count": 323,
     "metadata": {},
     "output_type": "execute_result"
    }
   ],
   "source": [
    "y_teste.shape"
   ]
  },
  {
   "cell_type": "code",
   "execution_count": 324,
   "id": "78b07c07",
   "metadata": {},
   "outputs": [],
   "source": [
    "# Criando o modelo de regressão linear simples\n",
    "modelo = LinearRegression()"
   ]
  },
  {
   "cell_type": "code",
   "execution_count": 325,
   "id": "410cdca0",
   "metadata": {},
   "outputs": [
    {
     "data": {
      "text/html": [
       "<style>#sk-container-id-6 {color: black;}#sk-container-id-6 pre{padding: 0;}#sk-container-id-6 div.sk-toggleable {background-color: white;}#sk-container-id-6 label.sk-toggleable__label {cursor: pointer;display: block;width: 100%;margin-bottom: 0;padding: 0.3em;box-sizing: border-box;text-align: center;}#sk-container-id-6 label.sk-toggleable__label-arrow:before {content: \"▸\";float: left;margin-right: 0.25em;color: #696969;}#sk-container-id-6 label.sk-toggleable__label-arrow:hover:before {color: black;}#sk-container-id-6 div.sk-estimator:hover label.sk-toggleable__label-arrow:before {color: black;}#sk-container-id-6 div.sk-toggleable__content {max-height: 0;max-width: 0;overflow: hidden;text-align: left;background-color: #f0f8ff;}#sk-container-id-6 div.sk-toggleable__content pre {margin: 0.2em;color: black;border-radius: 0.25em;background-color: #f0f8ff;}#sk-container-id-6 input.sk-toggleable__control:checked~div.sk-toggleable__content {max-height: 200px;max-width: 100%;overflow: auto;}#sk-container-id-6 input.sk-toggleable__control:checked~label.sk-toggleable__label-arrow:before {content: \"▾\";}#sk-container-id-6 div.sk-estimator input.sk-toggleable__control:checked~label.sk-toggleable__label {background-color: #d4ebff;}#sk-container-id-6 div.sk-label input.sk-toggleable__control:checked~label.sk-toggleable__label {background-color: #d4ebff;}#sk-container-id-6 input.sk-hidden--visually {border: 0;clip: rect(1px 1px 1px 1px);clip: rect(1px, 1px, 1px, 1px);height: 1px;margin: -1px;overflow: hidden;padding: 0;position: absolute;width: 1px;}#sk-container-id-6 div.sk-estimator {font-family: monospace;background-color: #f0f8ff;border: 1px dotted black;border-radius: 0.25em;box-sizing: border-box;margin-bottom: 0.5em;}#sk-container-id-6 div.sk-estimator:hover {background-color: #d4ebff;}#sk-container-id-6 div.sk-parallel-item::after {content: \"\";width: 100%;border-bottom: 1px solid gray;flex-grow: 1;}#sk-container-id-6 div.sk-label:hover label.sk-toggleable__label {background-color: #d4ebff;}#sk-container-id-6 div.sk-serial::before {content: \"\";position: absolute;border-left: 1px solid gray;box-sizing: border-box;top: 0;bottom: 0;left: 50%;z-index: 0;}#sk-container-id-6 div.sk-serial {display: flex;flex-direction: column;align-items: center;background-color: white;padding-right: 0.2em;padding-left: 0.2em;position: relative;}#sk-container-id-6 div.sk-item {position: relative;z-index: 1;}#sk-container-id-6 div.sk-parallel {display: flex;align-items: stretch;justify-content: center;background-color: white;position: relative;}#sk-container-id-6 div.sk-item::before, #sk-container-id-6 div.sk-parallel-item::before {content: \"\";position: absolute;border-left: 1px solid gray;box-sizing: border-box;top: 0;bottom: 0;left: 50%;z-index: -1;}#sk-container-id-6 div.sk-parallel-item {display: flex;flex-direction: column;z-index: 1;position: relative;background-color: white;}#sk-container-id-6 div.sk-parallel-item:first-child::after {align-self: flex-end;width: 50%;}#sk-container-id-6 div.sk-parallel-item:last-child::after {align-self: flex-start;width: 50%;}#sk-container-id-6 div.sk-parallel-item:only-child::after {width: 0;}#sk-container-id-6 div.sk-dashed-wrapped {border: 1px dashed gray;margin: 0 0.4em 0.5em 0.4em;box-sizing: border-box;padding-bottom: 0.4em;background-color: white;}#sk-container-id-6 div.sk-label label {font-family: monospace;font-weight: bold;display: inline-block;line-height: 1.2em;}#sk-container-id-6 div.sk-label-container {text-align: center;}#sk-container-id-6 div.sk-container {/* jupyter's `normalize.less` sets `[hidden] { display: none; }` but bootstrap.min.css set `[hidden] { display: none !important; }` so we also need the `!important` here to be able to override the default hidden behavior on the sphinx rendered scikit-learn.org. See: https://github.com/scikit-learn/scikit-learn/issues/21755 */display: inline-block !important;position: relative;}#sk-container-id-6 div.sk-text-repr-fallback {display: none;}</style><div id=\"sk-container-id-6\" class=\"sk-top-container\"><div class=\"sk-text-repr-fallback\"><pre>LinearRegression()</pre><b>In a Jupyter environment, please rerun this cell to show the HTML representation or trust the notebook. <br />On GitHub, the HTML representation is unable to render, please try loading this page with nbviewer.org.</b></div><div class=\"sk-container\" hidden><div class=\"sk-item\"><div class=\"sk-estimator sk-toggleable\"><input class=\"sk-toggleable__control sk-hidden--visually\" id=\"sk-estimator-id-6\" type=\"checkbox\" checked><label for=\"sk-estimator-id-6\" class=\"sk-toggleable__label sk-toggleable__label-arrow\">LinearRegression</label><div class=\"sk-toggleable__content\"><pre>LinearRegression()</pre></div></div></div></div></div>"
      ],
      "text/plain": [
       "LinearRegression()"
      ]
     },
     "execution_count": 325,
     "metadata": {},
     "output_type": "execute_result"
    }
   ],
   "source": [
    "# Treinando o modelo\n",
    "modelo.fit(X_treino, y_treino)"
   ]
  },
  {
   "cell_type": "code",
   "execution_count": 332,
   "id": "8796ceef",
   "metadata": {},
   "outputs": [
    {
     "data": {
      "image/png": "[encoded data removed]",
      "text/plain": [
       "<Figure size 640x480 with 1 Axes>"
      ]
     },
     "metadata": {},
     "output_type": "display_data"
    }
   ],
   "source": [
    "# Visualizando a reta de regressão linear (previsões) e os dados reais usados no treinamento\n",
    "plt.scatter(X, y, color = \"blue\", label = \"Previsao Internacao\")\n",
    "plt.plot(X, modelo.predict(X), color = \"red\", label = \"Reta de Regressão com as Previsões do Modelo\")\n",
    "plt.xlabel(\"idade_em_anos\")\n",
    "plt.ylabel(\"permanencia_real\")\n",
    "plt.legend()\n",
    "plt.show()"
   ]
  },
  {
   "cell_type": "markdown",
   "id": "4caa5bbf",
   "metadata": {},
   "source": [
    "# 4 - AVALIANDO O DESEMPENHO DO MODELO"
   ]
  },
  {
   "cell_type": "code",
   "execution_count": 326,
   "id": "cbfdf910",
   "metadata": {},
   "outputs": [],
   "source": [
    "# Bilioteca para avaliar o modelo\n",
    "from sklearn.metrics import mean_absolute_error, mean_squared_error, r2_score"
   ]
  },
  {
   "cell_type": "code",
   "execution_count": 327,
   "id": "5192bf2b",
   "metadata": {
    "scrolled": false
   },
   "outputs": [
    {
     "name": "stdout",
     "output_type": "stream",
     "text": [
      "Coeficiente R^2: 0.00\n"
     ]
    }
   ],
   "source": [
    "# Avalia o modelo nos dados de teste\n",
    "score = modelo.score(X_teste, y_teste)\n",
    "print(f\"Coeficiente R^2: {score:.2f}\")"
   ]
  },
  {
   "cell_type": "code",
   "execution_count": 328,
   "id": "294ef7dc",
   "metadata": {},
   "outputs": [],
   "source": [
    "predictions = modelo.predict(X_teste)"
   ]
  },
  {
   "cell_type": "code",
   "execution_count": 329,
   "id": "783c9fbf",
   "metadata": {},
   "outputs": [
    {
     "data": {
      "text/plain": [
       "4.61396743472202"
      ]
     },
     "execution_count": 329,
     "metadata": {},
     "output_type": "execute_result"
    }
   ],
   "source": [
    "# Intercepto - parâmetro w0\n",
    "modelo.intercept_"
   ]
  },
  {
   "cell_type": "code",
   "execution_count": 330,
   "id": "3d616768",
   "metadata": {},
   "outputs": [
    {
     "data": {
      "text/plain": [
       "array([-0.00523478])"
      ]
     },
     "execution_count": 330,
     "metadata": {},
     "output_type": "execute_result"
    }
   ],
   "source": [
    "# Slope - parâmetro w1\n",
    "modelo.coef_"
   ]
  },
  {
   "cell_type": "code",
   "execution_count": 331,
   "id": "fb4b6314",
   "metadata": {},
   "outputs": [
    {
     "name": "stdout",
     "output_type": "stream",
     "text": [
      "MAE: 4.24834215919532\n",
      "MSE: 85.63519444537854\n",
      "R^2: 2.971462321355034e-05\n"
     ]
    }
   ],
   "source": [
    "mae = mean_absolute_error(y_teste, predictions)\n",
    "mse = mean_squared_error(y_teste, predictions)\n",
    "r2 = r2_score(y_teste, predictions)\n",
    "\n",
    "print(f\"MAE: {mae}\")\n",
    "print(f\"MSE: {mse}\")\n",
    "print(f\"R^2: {r2}\")\n"
   ]
  },
  {
   "cell_type": "code",
   "execution_count": null,
   "id": "7fae0b3f",
   "metadata": {},
   "outputs": [],
   "source": []
  }
 ],
 "metadata": {
  "kernelspec": {
   "display_name": "Python 3 (ipykernel)",
   "language": "python",
   "name": "python3"
  },
  "language_info": {
   "codemirror_mode": {
    "name": "ipython",
    "version": 3
   },
   "file_extension": ".py",
   "mimetype": "text/x-python",
   "name": "python",
   "nbconvert_exporter": "python",
   "pygments_lexer": "ipython3",
   "version": "3.11.5"
  }
 },
 "nbformat": 4,
 "nbformat_minor": 5
}
